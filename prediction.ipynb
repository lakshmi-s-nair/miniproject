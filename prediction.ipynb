{
 "cells": [
  {
   "cell_type": "code",
   "execution_count": 1,
   "metadata": {},
   "outputs": [],
   "source": [
    "import pickle\n",
    "from joblib import dump, load"
   ]
  },
  {
   "cell_type": "code",
   "execution_count": 2,
   "metadata": {},
   "outputs": [],
   "source": [
    "with open('SVC_model.pkl', 'rb') as f:\n",
    "    model = load(f)"
   ]
  },
  {
   "cell_type": "code",
   "execution_count": 4,
   "metadata": {},
   "outputs": [
    {
     "name": "stdout",
     "output_type": "stream",
     "text": [
      "['Foodgrains, Oil & Masala']\n"
     ]
    }
   ],
   "source": [
    "text = [\"biriyani rice\"]\n",
    "prediction = model.predict(text)\n",
    "\n",
    "print(prediction)"
   ]
  },
  {
   "cell_type": "code",
   "execution_count": 5,
   "metadata": {},
   "outputs": [
    {
     "name": "stdout",
     "output_type": "stream",
     "text": [
      "['Fruits & Vegetables']\n"
     ]
    }
   ],
   "source": [
    "text = [\"potato loose\"]\n",
    "prediction = model.predict(text)\n",
    "\n",
    "print(prediction)"
   ]
  },
  {
   "cell_type": "code",
   "execution_count": 6,
   "metadata": {},
   "outputs": [
    {
     "name": "stdout",
     "output_type": "stream",
     "text": [
      "['Fruits & Vegetables']\n"
     ]
    }
   ],
   "source": [
    "text = [\"tomato loose\"]\n",
    "prediction = model.predict(text)\n",
    "\n",
    "print(prediction)"
   ]
  },
  {
   "cell_type": "code",
   "execution_count": 7,
   "metadata": {},
   "outputs": [
    {
     "name": "stdout",
     "output_type": "stream",
     "text": [
      "['Foodgrains, Oil & Masala']\n"
     ]
    }
   ],
   "source": [
    "text = [\"chilli powder\"]\n",
    "prediction = model.predict(text)\n",
    "\n",
    "print(prediction)"
   ]
  },
  {
   "cell_type": "code",
   "execution_count": 8,
   "metadata": {},
   "outputs": [
    {
     "name": "stdout",
     "output_type": "stream",
     "text": [
      "['Accessories']\n"
     ]
    }
   ],
   "source": [
    "text = [\"socks\"]\n",
    "prediction = model.predict(text)\n",
    "\n",
    "print(prediction)"
   ]
  },
  {
   "cell_type": "code",
   "execution_count": 9,
   "metadata": {},
   "outputs": [
    {
     "name": "stdout",
     "output_type": "stream",
     "text": [
      "['Pants']\n"
     ]
    }
   ],
   "source": [
    "text = [\"pants\"]\n",
    "prediction = model.predict(text)\n",
    "\n",
    "print(prediction)"
   ]
  },
  {
   "cell_type": "code",
   "execution_count": 12,
   "metadata": {},
   "outputs": [
    {
     "name": "stdout",
     "output_type": "stream",
     "text": [
      "['Beauty & Hygiene']\n"
     ]
    }
   ],
   "source": [
    "text = [\"makeup brush\"]\n",
    "prediction = model.predict(text)\n",
    "\n",
    "print(prediction)"
   ]
  },
  {
   "cell_type": "code",
   "execution_count": 15,
   "metadata": {},
   "outputs": [
    {
     "name": "stdout",
     "output_type": "stream",
     "text": [
      "['Beauty & Hygiene']\n"
     ]
    }
   ],
   "source": [
    "text = [\"pantene shampoo\"]\n",
    "prediction = model.predict(text)\n",
    "\n",
    "print(prediction)"
   ]
  },
  {
   "cell_type": "code",
   "execution_count": 14,
   "metadata": {},
   "outputs": [
    {
     "name": "stdout",
     "output_type": "stream",
     "text": [
      "['Beauty & Hygiene']\n"
     ]
    }
   ],
   "source": [
    "text = [\"deodorants\"]\n",
    "prediction = model.predict(text)\n",
    "\n",
    "print(prediction)"
   ]
  },
  {
   "cell_type": "code",
   "execution_count": 16,
   "metadata": {},
   "outputs": [
    {
     "name": "stdout",
     "output_type": "stream",
     "text": [
      "['Beauty & Hygiene']\n"
     ]
    }
   ],
   "source": [
    "text = [\"menstrual cups\"]\n",
    "prediction = model.predict(text)\n",
    "\n",
    "print(prediction)"
   ]
  },
  {
   "cell_type": "code",
   "execution_count": 17,
   "metadata": {},
   "outputs": [
    {
     "name": "stdout",
     "output_type": "stream",
     "text": [
      "['Beauty & Hygiene']\n"
     ]
    }
   ],
   "source": [
    "text = [\"moisturiser\"]\n",
    "prediction = model.predict(text)\n",
    "\n",
    "print(prediction)"
   ]
  },
  {
   "cell_type": "code",
   "execution_count": 23,
   "metadata": {},
   "outputs": [
    {
     "name": "stdout",
     "output_type": "stream",
     "text": [
      "['Beverages']\n"
     ]
    }
   ],
   "source": [
    "text = [\" Tea - Natural Care,Leaf & Dust\"]\n",
    "prediction = model.predict(text)\n",
    "\n",
    "print(prediction)"
   ]
  },
  {
   "cell_type": "code",
   "execution_count": 26,
   "metadata": {},
   "outputs": [
    {
     "name": "stdout",
     "output_type": "stream",
     "text": [
      "['Beverages']\n"
     ]
    }
   ],
   "source": [
    "text = [\" Mango Cold Pressed Juice\"]\n",
    "prediction = model.predict(text)\n",
    "\n",
    "print(prediction)"
   ]
  },
  {
   "cell_type": "code",
   "execution_count": 5,
   "metadata": {},
   "outputs": [
    {
     "name": "stdout",
     "output_type": "stream",
     "text": [
      "['Cleaning & Household']\n"
     ]
    }
   ],
   "source": [
    "text = [\"GALA Smarty Quick Spin Mop Mop Set  (Blue, White)\"]\n",
    "prediction = model.predict(text)\n",
    "\n",
    "print(prediction)"
   ]
  },
  {
   "cell_type": "code",
   "execution_count": 35,
   "metadata": {},
   "outputs": [
    {
     "name": "stdout",
     "output_type": "stream",
     "text": [
      "['Eggs, Meat & Fish']\n"
     ]
    }
   ],
   "source": [
    "text = [\"chicken 25 pcs\"]\n",
    "prediction = model.predict(text)\n",
    "\n",
    "print(prediction)"
   ]
  },
  {
   "cell_type": "code",
   "execution_count": 3,
   "metadata": {},
   "outputs": [
    {
     "name": "stdout",
     "output_type": "stream",
     "text": [
      "['Foodgrains, Oil & Masala']\n"
     ]
    }
   ],
   "source": [
    "text = [\"aashirvaad atta\"]\n",
    "prediction = model.predict(text)\n",
    "\n",
    "print(prediction)"
   ]
  },
  {
   "cell_type": "code",
   "execution_count": null,
   "metadata": {},
   "outputs": [],
   "source": []
  }
 ],
 "metadata": {
  "kernelspec": {
   "display_name": "Python 3",
   "language": "python",
   "name": "python3"
  },
  "language_info": {
   "codemirror_mode": {
    "name": "ipython",
    "version": 3
   },
   "file_extension": ".py",
   "mimetype": "text/x-python",
   "name": "python",
   "nbconvert_exporter": "python",
   "pygments_lexer": "ipython3",
   "version": "3.10.6"
  },
  "orig_nbformat": 4
 },
 "nbformat": 4,
 "nbformat_minor": 2
}
